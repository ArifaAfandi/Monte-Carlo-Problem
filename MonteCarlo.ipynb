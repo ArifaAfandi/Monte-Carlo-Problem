{
 "cells": [
  {
   "cell_type": "code",
   "execution_count": 1,
   "id": "829fd216-b815-40dd-8118-c741e15943c4",
   "metadata": {},
   "outputs": [],
   "source": [
    "import numpy as np"
   ]
  },
  {
   "cell_type": "code",
   "execution_count": 2,
   "id": "9511aa83-faeb-4635-93df-4fb2c409d914",
   "metadata": {},
   "outputs": [
    {
     "data": {
      "text/plain": [
       "0.3427"
      ]
     },
     "execution_count": 2,
     "metadata": {},
     "output_type": "execute_result"
    }
   ],
   "source": [
    "numof_simulations = 10000\n",
    "\n",
    "# counters for wins\n",
    "win_switch = 0\n",
    "win_stay = 0\n",
    "\n",
    "for _ in range(numof_simulations):\n",
    "    # randomly place the car behind one of the 3 doors\n",
    "    car_position = np.random.randint(0, 3)\n",
    "    \n",
    "    # contestant randomly picking a door\n",
    "    contestant_choice = np.random.randint(0, 3)\n",
    "    \n",
    "    # Host opens a door, revealing a goat\n",
    "    # Host will never open the door with the car or the contestant's chosen door\n",
    "    # If contestant picked the car, host picks randomly between the other two doors\n",
    "    doors = [0, 1, 2]\n",
    "    doors.remove(contestant_choice)\n",
    "    if car_position in doors:\n",
    "        doors.remove(car_position)\n",
    "    host_choice = np.random.choice(doors)\n",
    "    \n",
    "    # Determine if contestant wins by switching or staying\n",
    "    # If the contestant switches, they will pick the door not chosen by them or the host\n",
    "    switch_choice = 3 - contestant_choice - host_choice\n",
    "    if switch_choice == car_position:\n",
    "        win_switch += 1\n",
    "    if contestant_choice == car_position:\n",
    "        win_stay += 1\n",
    "\n",
    "# Calculating probabilities\n",
    "prob_win_switch = win_switch / numof_simulations\n",
    "prob_win_stay = win_stay / numof_simulations\n",
    "prob_win_switch #66%\n",
    "prob_win_stay #33%\n",
    "# These results demonstrate that switching doors increases the probability of winning the car\n"
   ]
  },
  {
   "cell_type": "code",
   "execution_count": null,
   "id": "38084c81-38d8-4857-969e-da98da02a210",
   "metadata": {},
   "outputs": [],
   "source": []
  },
  {
   "cell_type": "code",
   "execution_count": null,
   "id": "6e985ae1-ff4b-4db2-8620-93067542b6af",
   "metadata": {},
   "outputs": [],
   "source": []
  }
 ],
 "metadata": {
  "kernelspec": {
   "display_name": "Python 3 (ipykernel)",
   "language": "python",
   "name": "python3"
  },
  "language_info": {
   "codemirror_mode": {
    "name": "ipython",
    "version": 3
   },
   "file_extension": ".py",
   "mimetype": "text/x-python",
   "name": "python",
   "nbconvert_exporter": "python",
   "pygments_lexer": "ipython3",
   "version": "3.11.7"
  }
 },
 "nbformat": 4,
 "nbformat_minor": 5
}
